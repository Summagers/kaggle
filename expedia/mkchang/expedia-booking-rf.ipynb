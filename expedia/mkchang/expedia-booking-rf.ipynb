{
 "cells": [
  {
   "cell_type": "markdown",
   "metadata": {},
   "source": [
    "# Setup"
   ]
  },
  {
   "cell_type": "code",
   "execution_count": 1,
   "metadata": {
    "collapsed": true
   },
   "outputs": [],
   "source": [
    "import matplotlib\n",
    "matplotlib.use('Agg')"
   ]
  },
  {
   "cell_type": "code",
   "execution_count": 2,
   "metadata": {
    "collapsed": true
   },
   "outputs": [],
   "source": [
    "%matplotlib inline"
   ]
  },
  {
   "cell_type": "code",
   "execution_count": 3,
   "metadata": {
    "collapsed": false
   },
   "outputs": [],
   "source": [
    "import numpy as np\n",
    "import pandas as pd\n",
    "\n",
    "pd.set_option('display.max_columns', 30) # 27 columns of data in training set\n",
    "\n",
    "# import tensorflow as tf\n",
    "import matplotlib.pyplot as plt\n",
    "\n",
    "# from sklearn import datasets, cross_validation, metrics\n",
    "from sklearn.cross_validation import train_test_split\n",
    "from sklearn.decomposition import PCA\n",
    "from sklearn.preprocessing import Imputer\n",
    "# from sklearn import preprocessing\n",
    "\n",
    "# Random Forest\n",
    "from sklearn.ensemble import RandomForestClassifier\n",
    "\n",
    "# from sklearn.grid_search import GridSearchCV"
   ]
  },
  {
   "cell_type": "code",
   "execution_count": 18,
   "metadata": {
    "collapsed": false
   },
   "outputs": [],
   "source": [
    "def make_features(data):    \n",
    "    '''\n",
    "    Extract date-time features from dataframe 'data'.\n",
    "    Converts date_time, srch_ci, and srch_co fields into\n",
    "    components (year, month, day, etc) and drops the \n",
    "    original field.\n",
    "    '''\n",
    "    extract_datetimes(data, 'date_time')\n",
    "    extract_datetimes(data, 'srch_ci')\n",
    "    extract_datetimes(data, 'srch_co')\n",
    "    \n",
    "    data = data.drop(['date_time', 'srch_ci', 'srch_co'], axis=1)\n",
    "\n",
    "#     imp = Imputer(missing_values='NaN', strategy='mean', axis=0, copy=False)\n",
    "#     data = pd.DataFrame(imp.fit_transform(data), index=data.index, columns=data.columns)\n",
    "    return data\n",
    "\n",
    "def extract_datetimes(data, field):\n",
    "    data[field] = pd.to_datetime(data[field],errors='coerce')\n",
    "    data[field+'_year'] = data[field].dt.year\n",
    "    data[field+'_month'] = data[field].dt.month\n",
    "    data[field+'_day'] = data[field].dt.day\n",
    "    data[field+'_hour'] = data[field].dt.hour\n",
    "    data[field+'_minute'] = data[field].dt.minute\n",
    "    data[field+'_dayofyear'] = data[field].dt.dayofyear\n",
    "    data[field+'_dayofweek'] = data[field].dt.dayofweek\n",
    "\n",
    "def make_PCA(X, n_comp):\n",
    "    pca = PCA(n_components=n_comp)\n",
    "    pca.fit(X)\n",
    "    return pca"
   ]
  },
  {
   "cell_type": "code",
   "execution_count": 11,
   "metadata": {
    "collapsed": false
   },
   "outputs": [],
   "source": [
    "pd.DataFrame?"
   ]
  },
  {
   "cell_type": "code",
   "execution_count": 5,
   "metadata": {
    "collapsed": true
   },
   "outputs": [],
   "source": [
    "use_PCA = False\n",
    "save_preds = True"
   ]
  },
  {
   "cell_type": "markdown",
   "metadata": {},
   "source": [
    "# Import data"
   ]
  },
  {
   "cell_type": "code",
   "execution_count": 19,
   "metadata": {
    "collapsed": false
   },
   "outputs": [],
   "source": [
    "sample_sub = pd.read_csv('data/sample_submission.csv')\n",
    "train_data = make_features(pd.read_csv('data/train.csv', nrows=10000)) # 37,670,294 total lines\n",
    "test_data = make_features(pd.read_csv('data/test.csv', nrows=10000))   # 2,528,244 total lines\n",
    "# test_data_raw = pd.read_csv('data/test.csv', nrows=1000)   # 2,528,244 total lines\n",
    "destinations_data = pd.read_csv('data/destinations.csv')"
   ]
  },
  {
   "cell_type": "markdown",
   "metadata": {},
   "source": [
    "# Make features"
   ]
  },
  {
   "cell_type": "code",
   "execution_count": 21,
   "metadata": {
    "collapsed": false,
    "scrolled": true
   },
   "outputs": [
    {
     "name": "stdout",
     "output_type": "stream",
     "text": [
      "<class 'pandas.core.frame.DataFrame'>\n",
      "RangeIndex: 10000 entries, 0 to 9999\n",
      "Data columns (total 40 columns):\n",
      "id                           10000 non-null int64\n",
      "site_name                    10000 non-null int64\n",
      "posa_continent               10000 non-null int64\n",
      "user_location_country        10000 non-null int64\n",
      "user_location_region         10000 non-null int64\n",
      "user_location_city           10000 non-null int64\n",
      "orig_destination_distance    5893 non-null float64\n",
      "user_id                      10000 non-null int64\n",
      "is_mobile                    10000 non-null int64\n",
      "is_package                   10000 non-null int64\n",
      "channel                      10000 non-null int64\n",
      "srch_adults_cnt              10000 non-null int64\n",
      "srch_children_cnt            10000 non-null int64\n",
      "srch_rm_cnt                  10000 non-null int64\n",
      "srch_destination_id          10000 non-null int64\n",
      "srch_destination_type_id     10000 non-null int64\n",
      "hotel_continent              10000 non-null int64\n",
      "hotel_country                10000 non-null int64\n",
      "hotel_market                 10000 non-null int64\n",
      "date_time_year               10000 non-null int64\n",
      "date_time_month              10000 non-null int64\n",
      "date_time_day                10000 non-null int64\n",
      "date_time_hour               10000 non-null int64\n",
      "date_time_minute             10000 non-null int64\n",
      "date_time_dayofyear          10000 non-null int64\n",
      "date_time_dayofweek          10000 non-null int64\n",
      "srch_ci_year                 10000 non-null int64\n",
      "srch_ci_month                10000 non-null int64\n",
      "srch_ci_day                  10000 non-null int64\n",
      "srch_ci_hour                 10000 non-null int64\n",
      "srch_ci_minute               10000 non-null int64\n",
      "srch_ci_dayofyear            10000 non-null int64\n",
      "srch_ci_dayofweek            10000 non-null int64\n",
      "srch_co_year                 10000 non-null int64\n",
      "srch_co_month                10000 non-null int64\n",
      "srch_co_day                  10000 non-null int64\n",
      "srch_co_hour                 10000 non-null int64\n",
      "srch_co_minute               10000 non-null int64\n",
      "srch_co_dayofyear            10000 non-null int64\n",
      "srch_co_dayofweek            10000 non-null int64\n",
      "dtypes: float64(1), int64(39)\n",
      "memory usage: 3.1 MB\n"
     ]
    }
   ],
   "source": [
    "test_data.info()"
   ]
  },
  {
   "cell_type": "code",
   "execution_count": null,
   "metadata": {
    "collapsed": true
   },
   "outputs": [],
   "source": []
  },
  {
   "cell_type": "code",
   "execution_count": null,
   "metadata": {
    "collapsed": true
   },
   "outputs": [],
   "source": []
  },
  {
   "cell_type": "code",
   "execution_count": null,
   "metadata": {
    "collapsed": false
   },
   "outputs": [],
   "source": [
    "# train_data_raw['orig_destination_distance'][pd.isnull(train_data_raw['orig_destination_distance'])] = train_data_raw['orig_destination_distance'].mean()"
   ]
  },
  {
   "cell_type": "code",
   "execution_count": null,
   "metadata": {
    "collapsed": false,
    "scrolled": true
   },
   "outputs": [],
   "source": [
    "train_data['srch_destination_id'][0]"
   ]
  },
  {
   "cell_type": "code",
   "execution_count": null,
   "metadata": {
    "collapsed": false
   },
   "outputs": [],
   "source": [
    "destinations_data[destinations_data['srch_destination_id']==train_data['srch_destination_id'][3]]"
   ]
  },
  {
   "cell_type": "code",
   "execution_count": null,
   "metadata": {
    "collapsed": false,
    "scrolled": false
   },
   "outputs": [],
   "source": [
    "# dummies = pd.get_dummies(train_data, columns=['site_name', 'posa_continent', 'user_location_country',\n",
    "#        'user_location_region', 'user_location_city', 'user_id', 'is_mobile', 'is_package',\n",
    "#        'channel','srch_destination_id', 'srch_destination_type_id',\n",
    "#        'hotel_continent', 'hotel_country', 'hotel_market'])"
   ]
  },
  {
   "cell_type": "code",
   "execution_count": null,
   "metadata": {
    "collapsed": false
   },
   "outputs": [],
   "source": []
  },
  {
   "cell_type": "code",
   "execution_count": null,
   "metadata": {
    "collapsed": true
   },
   "outputs": [],
   "source": [
    "features = ['site_name', 'posa_continent', 'user_location_country',\n",
    "       'user_location_region', 'user_location_city',\n",
    "       'orig_destination_distance', 'user_id', 'is_mobile', 'is_package',\n",
    "       'channel', 'srch_adults_cnt', 'srch_children_cnt', 'srch_rm_cnt',\n",
    "       'srch_destination_id', 'srch_destination_type_id',\n",
    "       'hotel_continent', 'hotel_country', 'hotel_market', 'hotel_cluster',\n",
    "       'date_time_year', 'date_time_month', 'date_time_day', 'date_time_hour',\n",
    "       'date_time_minute', 'date_time_dayofyear', 'date_time_dayofweek',\n",
    "       'srch_ci_year', 'srch_ci_month', 'srch_ci_day', 'srch_ci_hour',\n",
    "       'srch_ci_minute', 'srch_ci_dayofyear', 'srch_ci_dayofweek',\n",
    "       'srch_co_year', 'srch_co_month', 'srch_co_day', 'srch_co_hour',\n",
    "       'srch_co_minute', 'srch_co_dayofyear', 'srch_co_dayofweek']\n",
    "\n",
    "test_features = ['site_name', 'posa_continent', 'user_location_country',\n",
    "       'user_location_region', 'user_location_city',\n",
    "       'user_id', 'is_mobile', 'is_package',\n",
    "       'channel', 'srch_adults_cnt', 'srch_children_cnt',\n",
    "       'srch_rm_cnt', 'srch_destination_id', 'srch_destination_type_id',\n",
    "       'hotel_continent', 'hotel_country', 'hotel_market']\n",
    "\n",
    "# 'srch_ci', 'srch_co', 'orig_destination_distance', 'is_booking', 'cnt',"
   ]
  },
  {
   "cell_type": "code",
   "execution_count": null,
   "metadata": {
    "collapsed": false
   },
   "outputs": [],
   "source": [
    "# pd.isnull(test_data).sum()"
   ]
  },
  {
   "cell_type": "code",
   "execution_count": null,
   "metadata": {
    "collapsed": false
   },
   "outputs": [],
   "source": [
    "X_all = train_data.ix[:,features]\n",
    "y_all = train_data.ix[:,'hotel_cluster']\n",
    "X_test = test_data.ix[:,features]"
   ]
  },
  {
   "cell_type": "code",
   "execution_count": null,
   "metadata": {
    "collapsed": false
   },
   "outputs": [],
   "source": [
    "# # \n",
    "# pd.tools.plotting.scatter_matrix(X_all, alpha=0.2)"
   ]
  },
  {
   "cell_type": "code",
   "execution_count": null,
   "metadata": {
    "collapsed": false
   },
   "outputs": [],
   "source": [
    "# checking correlation of features\n",
    "plt.matshow(X_all.corr())\n",
    "plt.colorbar()"
   ]
  },
  {
   "cell_type": "code",
   "execution_count": null,
   "metadata": {
    "collapsed": false
   },
   "outputs": [],
   "source": [
    "y = y_all.astype('category').cat.codes\n",
    "\n",
    "X = X_all.as_matrix()\n",
    "if use_PCA:\n",
    "    pca = make_PCA(X, 15)\n",
    "    X = pca.transform(X)"
   ]
  },
  {
   "cell_type": "code",
   "execution_count": null,
   "metadata": {
    "collapsed": true
   },
   "outputs": [],
   "source": [
    "X_train = X_all\n",
    "y_train = y_all"
   ]
  },
  {
   "cell_type": "code",
   "execution_count": null,
   "metadata": {
    "collapsed": true
   },
   "outputs": [],
   "source": []
  },
  {
   "cell_type": "code",
   "execution_count": null,
   "metadata": {
    "collapsed": false
   },
   "outputs": [],
   "source": [
    "# generate training and cross-validation features\n",
    "X_train, X_cv, y_train, y_cv = train_test_split(X_all, y_all, train_size=.7, random_state=1)"
   ]
  },
  {
   "cell_type": "markdown",
   "metadata": {},
   "source": [
    "# Random Forest Model"
   ]
  },
  {
   "cell_type": "code",
   "execution_count": null,
   "metadata": {
    "collapsed": true
   },
   "outputs": [],
   "source": [
    "expedia_rfc = RandomForestClassifier(n_estimators=50, \n",
    "                                     max_leaf_nodes=12, \n",
    "                                     criterion='entropy')"
   ]
  },
  {
   "cell_type": "code",
   "execution_count": null,
   "metadata": {
    "collapsed": false
   },
   "outputs": [],
   "source": [
    "%time expedia_rfc = expedia_rfc.fit(X_train, y_train)"
   ]
  },
  {
   "cell_type": "code",
   "execution_count": null,
   "metadata": {
    "collapsed": false
   },
   "outputs": [],
   "source": [
    "%%time\n",
    "\n",
    "score_train = expedia_rfc.score(X_train, y_train)\n",
    "score_cv = expedia_rfc.score(X_cv, y_cv)\n",
    "\n",
    "# test/train\n",
    "# 20/80 split Training Score: 0.944199898638 , CV Score: 0.217073344343\n",
    "# 50/50 split Training Score: 0.894782517584 , CV Score: 0.242728773988\n",
    "# 80/20 split Training Score: 0.943824063687 , CV Score: 0.219235806617\n",
    "print ('Training Score:', score_train, ', CV Score:', score_cv) "
   ]
  },
  {
   "cell_type": "code",
   "execution_count": null,
   "metadata": {
    "collapsed": false
   },
   "outputs": [],
   "source": [
    "feature_importance = zip(features, expedia_rfc.feature_importances_)\n",
    "for x in sorted(feature_importance, key=lambda x: -x[1]):\n",
    "    print (x)"
   ]
  },
  {
   "cell_type": "code",
   "execution_count": null,
   "metadata": {
    "collapsed": true
   },
   "outputs": [],
   "source": [
    "prob_prediction = expedia_rfc.predict_proba(X_test)"
   ]
  },
  {
   "cell_type": "code",
   "execution_count": null,
   "metadata": {
    "collapsed": true
   },
   "outputs": [],
   "source": [
    "submission = pd.DataFrame(prob_prediction, \n",
    "                          index=X_test.index, \n",
    "                          columns=expedia_rfc.classes_)"
   ]
  },
  {
   "cell_type": "code",
   "execution_count": null,
   "metadata": {
    "collapsed": true
   },
   "outputs": [],
   "source": [
    "submission.to_csv('expedia-rf-2016-04-18-s1.csv', index_label='Id')"
   ]
  },
  {
   "cell_type": "code",
   "execution_count": null,
   "metadata": {
    "collapsed": true
   },
   "outputs": [],
   "source": []
  },
  {
   "cell_type": "code",
   "execution_count": null,
   "metadata": {
    "collapsed": false
   },
   "outputs": [],
   "source": [
    "y_OH = np_utils.to_categorical(y.as_matrix(), y.nunique())"
   ]
  },
  {
   "cell_type": "code",
   "execution_count": null,
   "metadata": {
    "collapsed": false
   },
   "outputs": [],
   "source": [
    "input_dim = X.shape[1]\n",
    "output_dim = y_OH.shape[1]"
   ]
  },
  {
   "cell_type": "code",
   "execution_count": null,
   "metadata": {
    "collapsed": false
   },
   "outputs": [],
   "source": [
    "model = build_model(input_dim, output_dim, hn=512, dp=0.5, layers=3, init_mode='glorot_normal')"
   ]
  },
  {
   "cell_type": "code",
   "execution_count": null,
   "metadata": {
    "collapsed": false
   },
   "outputs": [],
   "source": [
    "model = run_model(X, y_OH, model, 128, 50, 1e-3, load_name='expedia-512x3.h5', save_name='expedia-512x3.h5')"
   ]
  },
  {
   "cell_type": "code",
   "execution_count": null,
   "metadata": {
    "collapsed": false
   },
   "outputs": [],
   "source": [
    "X_final_test = X_test[test_features].as_matrix()\n",
    "#     X_final_test = pca.transform(X_final_test)\n",
    "pred = model.predict_proba(X_final_test, batch_size=64, verbose=1)\n",
    "\n",
    "labels = list(pd.get_dummies(train_data['hotel_cluster']).columns)"
   ]
  },
  {
   "cell_type": "code",
   "execution_count": null,
   "metadata": {
    "collapsed": false
   },
   "outputs": [],
   "source": [
    "#take top 5 results\n",
    "top_pred_hotel_cluster = [' '.join([str(hotel) for hotel in row]) for row in np.argsort(pred)[:,-5:]]"
   ]
  },
  {
   "cell_type": "code",
   "execution_count": null,
   "metadata": {
    "collapsed": false
   },
   "outputs": [],
   "source": [
    "results = pd.DataFrame(top_pred_hotel_cluster, columns=['hotel_cluster'])"
   ]
  },
  {
   "cell_type": "code",
   "execution_count": null,
   "metadata": {
    "collapsed": false
   },
   "outputs": [],
   "source": [
    "results.to_csv('expedia-nn-2016-04-16-s3.csv', index_label='id')"
   ]
  },
  {
   "cell_type": "code",
   "execution_count": null,
   "metadata": {
    "collapsed": true
   },
   "outputs": [],
   "source": []
  }
 ],
 "metadata": {
  "kernelspec": {
   "display_name": "Python 3",
   "language": "python",
   "name": "python3"
  },
  "language_info": {
   "codemirror_mode": {
    "name": "ipython",
    "version": 3
   },
   "file_extension": ".py",
   "mimetype": "text/x-python",
   "name": "python",
   "nbconvert_exporter": "python",
   "pygments_lexer": "ipython3",
   "version": "3.4.3"
  }
 },
 "nbformat": 4,
 "nbformat_minor": 0
}
