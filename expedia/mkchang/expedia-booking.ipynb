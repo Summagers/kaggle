{
 "cells": [
  {
   "cell_type": "markdown",
   "metadata": {},
   "source": [
    "# Setup"
   ]
  },
  {
   "cell_type": "code",
   "execution_count": null,
   "metadata": {
    "collapsed": true
   },
   "outputs": [],
   "source": [
    "import matplotlib\n",
    "matplotlib.use('Agg')"
   ]
  },
  {
   "cell_type": "code",
   "execution_count": null,
   "metadata": {
    "collapsed": true
   },
   "outputs": [],
   "source": [
    "%matplotlib inline"
   ]
  },
  {
   "cell_type": "code",
   "execution_count": null,
   "metadata": {
    "collapsed": false
   },
   "outputs": [],
   "source": [
    "# import tensorflow as tf\n",
    "import matplotlib.pyplot as plt\n",
    "\n",
    "# from sklearn import datasets, cross_validation, metrics\n",
    "from sklearn.cross_validation import train_test_split\n",
    "from sklearn.decomposition import PCA\n",
    "# from sklearn import preprocessing\n",
    "\n",
    "from keras.models import Sequential\n",
    "from keras.layers import Dense, Dropout, Activation\n",
    "from keras.layers.normalization import BatchNormalization\n",
    "from keras.optimizers import Adam\n",
    "from keras.utils import np_utils\n",
    "\n",
    "import csv\n",
    "\n",
    "# from copy import copy"
   ]
  },
  {
   "cell_type": "code",
   "execution_count": null,
   "metadata": {
    "collapsed": true
   },
   "outputs": [],
   "source": [
    "import numpy as np\n",
    "import pandas as pd\n",
    "\n",
    "pd.set_option('display.max_columns', 30) # 27 columns of data in training set"
   ]
  },
  {
   "cell_type": "code",
   "execution_count": null,
   "metadata": {
    "collapsed": true
   },
   "outputs": [],
   "source": [
    "def make_features(data):    \n",
    "#     for col in ['site_name', 'posa_continent']:\n",
    "#         dummies = pd.get_dummies(data[col])\n",
    "#         data[col[0:3]+\"_\"+dummies.columns] = dummies\n",
    "    # Extract date-time features\n",
    "    data['datetime'] = pd.to_datetime(data['date_time'])\n",
    "    data['srch_ci_datetime'] = pd.to_datetime(data['srch_ci'])\n",
    "    data['srch_co_datetime'] = pd.to_datetime(data['srch_co'])\n",
    "#     data['year'] = data['Dates'].dt.year\n",
    "#     data['month'] = data['Dates'].dt.month\n",
    "#     data['day'] = data['Dates'].dt.day\n",
    "#     data['hour'] = data['Dates'].dt.hour\n",
    "#     data['minute'] = data['Dates'].dt.minute\n",
    "#     data['dayofyear'] = data['Dates'].dt.dayofyear\n",
    "#     data['dayofweek'] = data['Dates'].dt.dayofweek\n",
    "\n",
    "#     data[['X','Y','Z']] = preprocessing.normalize(data[['X','Y','Z']], norm='l2')\n",
    "    \n",
    "    return data"
   ]
  },
  {
   "cell_type": "code",
   "execution_count": null,
   "metadata": {
    "collapsed": true
   },
   "outputs": [],
   "source": [
    "def make_PCA(X, n_comp):\n",
    "    pca = PCA(n_components=n_comp)\n",
    "    pca.fit(X)\n",
    "    return pca\n",
    "\n",
    "def build_model(input_dim, output_dim, hn=32, dp=0.5, layers=1,\n",
    "                init_mode='glorot_uniform',\n",
    "                batch_norm=True):\n",
    "    model = Sequential()\n",
    "    model.add(Dense(hn, input_dim=input_dim, init=init_mode))\n",
    "    model.add(Activation('relu'))\n",
    "    if batch_norm:\n",
    "        model.add(BatchNormalization())\n",
    "    model.add(Dropout(dp))\n",
    "\n",
    "    for i in range(layers):\n",
    "        model.add(Dense(hn, init=init_mode))\n",
    "        model.add(Activation('relu'))\n",
    "        if batch_norm:\n",
    "            model.add(BatchNormalization())\n",
    "        model.add(Dropout(dp))\n",
    "\n",
    "    model.add(Dense(output_dim, init=init_mode))\n",
    "    model.add(Activation('softmax'))\n",
    "\n",
    "    return model\n",
    "\n",
    "\n",
    "def save_model_weights(model, name):\n",
    "    try:\n",
    "        model.save_weights(name, overwrite=True)\n",
    "    except:\n",
    "        print(\"failed to save classifier weights\")\n",
    "    pass\n",
    "\n",
    "def load_model_weights(model, name):\n",
    "    try:\n",
    "        model.load_weights(name)\n",
    "    except:\n",
    "        print(\"Can't load weights!\")\n",
    "\n",
    "\n",
    "def run_model(X, y, model, batch_size, nb_epoch, lr, load_name='expedia.h5', save_name='expedia.h5'):\n",
    "    adam = Adam(lr=lr)\n",
    "    model.compile(loss='categorical_crossentropy', optimizer=adam)\n",
    "    load_model_weights(model, load_name)\n",
    "    model.fit(X,\n",
    "              y,\n",
    "              nb_epoch=nb_epoch,\n",
    "              batch_size=batch_size,\n",
    "              validation_split=0.1,\n",
    "              show_accuracy=True,\n",
    "              verbose=True)\n",
    "\n",
    "    save_model_weights(model, save_name)\n",
    "    return model"
   ]
  },
  {
   "cell_type": "code",
   "execution_count": null,
   "metadata": {
    "collapsed": true
   },
   "outputs": [],
   "source": [
    "use_PCA = False\n",
    "save_preds = True"
   ]
  },
  {
   "cell_type": "markdown",
   "metadata": {},
   "source": [
    "# Import data"
   ]
  },
  {
   "cell_type": "code",
   "execution_count": null,
   "metadata": {
    "collapsed": false
   },
   "outputs": [],
   "source": [
    "sample_sub = pd.read_csv('data/sample_submission.csv')\n",
    "train_data_raw = pd.read_csv('data/train.csv', nrows=25000) # 37,670,294 total lines\n",
    "# test_data_raw = pd.read_csv('data/test.csv')   # 2,528,244 total lines\n",
    "test_data_raw = pd.read_csv('data/test.csv', nrows=1000)   # 2,528,244 total lines\n",
    "destinations_data = pd.read_csv('data/destinations.csv')"
   ]
  },
  {
   "cell_type": "markdown",
   "metadata": {},
   "source": [
    "# Make features"
   ]
  },
  {
   "cell_type": "code",
   "execution_count": null,
   "metadata": {
    "collapsed": false
   },
   "outputs": [],
   "source": [
    "# train_data = make_features(train_data_raw)"
   ]
  },
  {
   "cell_type": "code",
   "execution_count": null,
   "metadata": {
    "collapsed": false,
    "scrolled": true
   },
   "outputs": [],
   "source": [
    "train_data = train_data_raw\n",
    "# train_data.drop(['date_time', 'srch_ci', 'srch_co', 'orig_destination_distance', 'is_booking', 'cnt'], axis=1)"
   ]
  },
  {
   "cell_type": "code",
   "execution_count": null,
   "metadata": {
    "collapsed": false,
    "scrolled": false
   },
   "outputs": [],
   "source": [
    "# dummies = pd.get_dummies(train_data, columns=['site_name', 'posa_continent', 'user_location_country',\n",
    "#        'user_location_region', 'user_location_city', 'user_id', 'is_mobile', 'is_package',\n",
    "#        'channel','srch_destination_id', 'srch_destination_type_id',\n",
    "#        'hotel_continent', 'hotel_country', 'hotel_market'])"
   ]
  },
  {
   "cell_type": "code",
   "execution_count": null,
   "metadata": {
    "collapsed": false
   },
   "outputs": [],
   "source": [
    "# features = dummies.columns"
   ]
  },
  {
   "cell_type": "code",
   "execution_count": null,
   "metadata": {
    "collapsed": false
   },
   "outputs": [],
   "source": []
  },
  {
   "cell_type": "code",
   "execution_count": null,
   "metadata": {
    "collapsed": true
   },
   "outputs": [],
   "source": [
    "features = ['site_name', 'posa_continent', 'user_location_country',\n",
    "       'user_location_region', 'user_location_city',\n",
    "       'user_id', 'is_mobile', 'is_package',\n",
    "       'channel', 'srch_adults_cnt', 'srch_children_cnt',\n",
    "       'srch_rm_cnt', 'srch_destination_id', 'srch_destination_type_id',\n",
    "       'hotel_continent', 'hotel_country', 'hotel_market']\n",
    "\n",
    "test_features = ['site_name', 'posa_continent', 'user_location_country',\n",
    "       'user_location_region', 'user_location_city',\n",
    "       'user_id', 'is_mobile', 'is_package',\n",
    "       'channel', 'srch_adults_cnt', 'srch_children_cnt',\n",
    "       'srch_rm_cnt', 'srch_destination_id', 'srch_destination_type_id',\n",
    "       'hotel_continent', 'hotel_country', 'hotel_market']\n",
    "\n",
    "# 'srch_ci', 'srch_co', 'orig_destination_distance', 'is_booking', 'cnt',"
   ]
  },
  {
   "cell_type": "code",
   "execution_count": null,
   "metadata": {
    "collapsed": false
   },
   "outputs": [],
   "source": [
    "# pd.isnull(test_data).sum()"
   ]
  },
  {
   "cell_type": "code",
   "execution_count": null,
   "metadata": {
    "collapsed": false
   },
   "outputs": [],
   "source": [
    "X_all = train_data.ix[:,features]\n",
    "y_all = train_data.ix[:,'hotel_cluster']\n",
    "# X_test = test_data.ix[:,features]"
   ]
  },
  {
   "cell_type": "code",
   "execution_count": null,
   "metadata": {
    "collapsed": false
   },
   "outputs": [],
   "source": [
    "# # \n",
    "# pd.tools.plotting.scatter_matrix(X_all, alpha=0.2)"
   ]
  },
  {
   "cell_type": "code",
   "execution_count": null,
   "metadata": {
    "collapsed": false
   },
   "outputs": [],
   "source": [
    "# checking correlation of features\n",
    "plt.matshow(X_all.corr())\n",
    "plt.colorbar()"
   ]
  },
  {
   "cell_type": "code",
   "execution_count": null,
   "metadata": {
    "collapsed": false
   },
   "outputs": [],
   "source": [
    "y = y_all.astype('category').cat.codes\n",
    "\n",
    "X = X_all.as_matrix()\n",
    "if use_PCA:\n",
    "    pca = make_PCA(X, 15)\n",
    "    X = pca.transform(X)"
   ]
  },
  {
   "cell_type": "code",
   "execution_count": null,
   "metadata": {
    "collapsed": false
   },
   "outputs": [],
   "source": [
    "X_train, X_cv, y_train, y_cv = train_test_split(X_all, y_all, train_size=.5, random_state=1)"
   ]
  },
  {
   "cell_type": "markdown",
   "metadata": {},
   "source": [
    "# NN Model"
   ]
  },
  {
   "cell_type": "code",
   "execution_count": null,
   "metadata": {
    "collapsed": false
   },
   "outputs": [],
   "source": [
    "y_OH = np_utils.to_categorical(y.as_matrix(), y.nunique())"
   ]
  },
  {
   "cell_type": "code",
   "execution_count": null,
   "metadata": {
    "collapsed": false
   },
   "outputs": [],
   "source": [
    "input_dim = X.shape[1]\n",
    "output_dim = y_OH.shape[1]"
   ]
  },
  {
   "cell_type": "code",
   "execution_count": null,
   "metadata": {
    "collapsed": false
   },
   "outputs": [],
   "source": [
    "model = build_model(input_dim, output_dim, hn=512, dp=0.5, layers=3, init_mode='glorot_normal')"
   ]
  },
  {
   "cell_type": "code",
   "execution_count": null,
   "metadata": {
    "collapsed": false
   },
   "outputs": [],
   "source": [
    "model = run_model(X, y_OH, model, 128, 50, 1e-3, load_name='expedia-512x3.h5', save_name='expedia-512x3.h5')"
   ]
  },
  {
   "cell_type": "code",
   "execution_count": null,
   "metadata": {
    "collapsed": false
   },
   "outputs": [],
   "source": [
    "X_final_test = X_test[test_features].as_matrix()\n",
    "#     X_final_test = pca.transform(X_final_test)\n",
    "pred = model.predict_proba(X_final_test, batch_size=64, verbose=1)\n",
    "\n",
    "labels = list(pd.get_dummies(train_data['hotel_cluster']).columns)"
   ]
  },
  {
   "cell_type": "code",
   "execution_count": null,
   "metadata": {
    "collapsed": false
   },
   "outputs": [],
   "source": [
    "#take top 5 results\n",
    "top_pred_hotel_cluster = [' '.join([str(hotel) for hotel in row]) for row in np.argsort(pred)[:,-5:]]"
   ]
  },
  {
   "cell_type": "code",
   "execution_count": null,
   "metadata": {
    "collapsed": false
   },
   "outputs": [],
   "source": [
    "results = pd.DataFrame(top_pred_hotel_cluster, columns=['hotel_cluster'])"
   ]
  },
  {
   "cell_type": "code",
   "execution_count": null,
   "metadata": {
    "collapsed": false
   },
   "outputs": [],
   "source": [
    "results.to_csv('expedia-nn-2016-04-16-s3.csv', index_label='id')"
   ]
  },
  {
   "cell_type": "code",
   "execution_count": null,
   "metadata": {
    "collapsed": true
   },
   "outputs": [],
   "source": []
  }
 ],
 "metadata": {
  "kernelspec": {
   "display_name": "Python 3",
   "language": "python",
   "name": "python3"
  },
  "language_info": {
   "codemirror_mode": {
    "name": "ipython",
    "version": 3
   },
   "file_extension": ".py",
   "mimetype": "text/x-python",
   "name": "python",
   "nbconvert_exporter": "python",
   "pygments_lexer": "ipython3",
   "version": "3.4.3"
  }
 },
 "nbformat": 4,
 "nbformat_minor": 0
}
