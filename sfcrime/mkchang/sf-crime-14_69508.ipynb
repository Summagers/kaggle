{
 "cells": [
  {
   "cell_type": "markdown",
   "metadata": {},
   "source": [
    "# Kaggle: San Francisco Crime Classification"
   ]
  },
  {
   "cell_type": "markdown",
   "metadata": {},
   "source": [
    "Predict the category of crimes that occurred in the city by the bay\n",
    "\n",
    "From 1934 to 1963, San Francisco was infamous for housing some of the world's most notorious criminals on the inescapable island of Alcatraz.\n",
    "\n",
    "Today, the city is known more for its tech scene than its criminal past. But, with rising wealth inequality, housing shortages, and a proliferation of expensive digital toys riding BART to work, there is no scarcity of crime in the city by the bay.\n",
    "\n",
    "From Sunset to SOMA, and Marina to Excelsior, this competition's dataset provides nearly 12 years of crime reports from across all of San Francisco's neighborhoods. Given time and location, you must predict the category of crime that occurred."
   ]
  },
  {
   "cell_type": "code",
   "execution_count": 1,
   "metadata": {
    "collapsed": true
   },
   "outputs": [],
   "source": [
    "# to add\n",
    "# probability parameter\n",
    "# call .decision_function(x) to get probabilities\n",
    "\n",
    "# normalize your features\n",
    "# try day of year, day or month, day of week, hour of day...\n",
    "# polarize features, as done in the M&V "
   ]
  },
  {
   "cell_type": "code",
   "execution_count": 2,
   "metadata": {
    "collapsed": false
   },
   "outputs": [],
   "source": [
    "%matplotlib inline"
   ]
  },
  {
   "cell_type": "code",
   "execution_count": 3,
   "metadata": {
    "collapsed": false
   },
   "outputs": [],
   "source": [
    "from matplotlib import pyplot as plt\n",
    "import numpy as np\n",
    "import pandas as pd\n",
    "from sklearn import cross_validation, preprocessing\n",
    "from os.path import expanduser, normpath\n",
    "import time\n",
    "import datetime\n",
    "\n",
    "# Random Forest\n",
    "from sklearn.ensemble import RandomForestClassifier\n",
    "\n",
    "# SVM\n",
    "from sklearn.grid_search import GridSearchCV\n",
    "from sklearn.metrics import classification_report\n",
    "from sklearn.multiclass import OneVsRestClassifier\n",
    "from sklearn.svm import SVC\n"
   ]
  },
  {
   "cell_type": "code",
   "execution_count": 4,
   "metadata": {
    "collapsed": false
   },
   "outputs": [],
   "source": [
    "# Set paths for data to be imported\n",
    "\n",
    "home = expanduser('~')\n",
    "# path = str(home) + '\\\\Documents\\\\data-science\\\\kaggle\\\\sf-crime\\\\' # Windows\n",
    "path = str(home) + '/Documents/Personal/data-science/kaggle/sf-crime/' # Mac\n",
    "trainfile = 'train.csv'\n",
    "testfile = 'test.csv'"
   ]
  },
  {
   "cell_type": "code",
   "execution_count": 5,
   "metadata": {
    "collapsed": false
   },
   "outputs": [],
   "source": [
    "train_data_raw = pd.read_csv(path+trainfile)\n",
    "test_data_raw = pd.read_csv(path+testfile)"
   ]
  },
  {
   "cell_type": "code",
   "execution_count": 6,
   "metadata": {
    "collapsed": false
   },
   "outputs": [],
   "source": [
    "# train_data.groupby('Category').size().sort_values()"
   ]
  },
  {
   "cell_type": "markdown",
   "metadata": {},
   "source": [
    "## Features"
   ]
  },
  {
   "cell_type": "code",
   "execution_count": 7,
   "metadata": {
    "collapsed": false
   },
   "outputs": [],
   "source": [
    "# train_data_raw['Category'].value_counts()"
   ]
  },
  {
   "cell_type": "code",
   "execution_count": 8,
   "metadata": {
    "collapsed": false
   },
   "outputs": [],
   "source": [
    "train_data = train_data_raw.copy()\n",
    "test_data = test_data_raw.copy()"
   ]
  },
  {
   "cell_type": "code",
   "execution_count": 9,
   "metadata": {
    "collapsed": false
   },
   "outputs": [],
   "source": [
    "# Remove unnecessary features\n",
    "train_data.drop(['Descript', \n",
    "                 'Resolution', \n",
    "                 'PdDistrict', \n",
    "                 'DayOfWeek', \n",
    "                 'Address'], inplace=True, axis=1)\n",
    "\n",
    "test_data.drop(['PdDistrict', \n",
    "                'DayOfWeek', \n",
    "                'Address'], inplace=True, axis=1)"
   ]
  },
  {
   "cell_type": "code",
   "execution_count": 10,
   "metadata": {
    "collapsed": false
   },
   "outputs": [],
   "source": [
    "train_data['Dates'] = pd.to_datetime(train_data['Dates'])\n",
    "train_data['year'] = train_data['Dates'].dt.year\n",
    "train_data['month'] = train_data['Dates'].dt.month \n",
    "train_data['day'] = train_data['Dates'].dt.day\n",
    "train_data['hour'] = train_data['Dates'].dt.hour\n",
    "train_data['minute'] = train_data['Dates'].dt.minute\n",
    "\n",
    "train_data['dayofyear'] = train_data['Dates'].dt.dayofyear\n",
    "train_data['dayofweek'] = train_data['Dates'].dt.dayofweek"
   ]
  },
  {
   "cell_type": "code",
   "execution_count": 11,
   "metadata": {
    "collapsed": false
   },
   "outputs": [],
   "source": [
    "test_data['Dates'] = pd.to_datetime(test_data['Dates'])\n",
    "test_data['year'] = test_data['Dates'].dt.year\n",
    "test_data['month'] = test_data['Dates'].dt.month \n",
    "test_data['day'] = test_data['Dates'].dt.day\n",
    "test_data['hour'] = test_data['Dates'].dt.hour\n",
    "test_data['minute'] = test_data['Dates'].dt.minute\n",
    "\n",
    "test_data['dayofyear'] = test_data['Dates'].dt.dayofyear\n",
    "test_data['dayofweek'] = test_data['Dates'].dt.dayofweek"
   ]
  },
  {
   "cell_type": "code",
   "execution_count": 12,
   "metadata": {
    "collapsed": true
   },
   "outputs": [],
   "source": [
    "# Set up 0 to 1 scaler for preprocessing features in training and test sets\n",
    "min_max_scaler = preprocessing.MinMaxScaler()"
   ]
  },
  {
   "cell_type": "code",
   "execution_count": 13,
   "metadata": {
    "collapsed": false
   },
   "outputs": [],
   "source": [
    "train_data_noscale = pd.DataFrame(train_data[['Category','Dates']])\n",
    "train_data.drop(['Category', 'Dates'], inplace=True, axis=1)"
   ]
  },
  {
   "cell_type": "code",
   "execution_count": 14,
   "metadata": {
    "collapsed": false,
    "scrolled": true
   },
   "outputs": [],
   "source": [
    "train_data_minmax = pd.DataFrame(min_max_scaler.fit_transform(train_data),\n",
    "                                 index = train_data.index, \n",
    "                                 columns = train_data.columns) \n",
    "train_data_minmax[['Category','Dates']] = train_data_noscale"
   ]
  },
  {
   "cell_type": "code",
   "execution_count": 15,
   "metadata": {
    "collapsed": false
   },
   "outputs": [],
   "source": [
    "test_data_noscale= pd.DataFrame(test_data[['Id','Dates']])\n",
    "test_data.drop(['Id', 'Dates'], inplace=True, axis=1)"
   ]
  },
  {
   "cell_type": "code",
   "execution_count": 16,
   "metadata": {
    "collapsed": false
   },
   "outputs": [],
   "source": [
    "test_data_minmax = pd.DataFrame(min_max_scaler.transform(test_data),\n",
    "                                index = test_data.index, \n",
    "                                columns = test_data.columns) \n",
    "test_data_minmax[['Id','Dates']] = test_data_noscale"
   ]
  },
  {
   "cell_type": "code",
   "execution_count": 17,
   "metadata": {
    "collapsed": true
   },
   "outputs": [],
   "source": [
    "# Decide which features to go into training set\n",
    "X_train = train_data_minmax.ix[:,['dayofyear','dayofweek','hour','X','Y']]\n",
    "y_train = train_data_minmax.ix[:,'Category']"
   ]
  },
  {
   "cell_type": "code",
   "execution_count": null,
   "metadata": {
    "collapsed": false
   },
   "outputs": [],
   "source": [
    "# generate training and cross-validation features\n",
    "X_train, X_cv, y_train, y_cv = cross_validation.train_test_split(X_train, \n",
    "                                                                 y_train, \n",
    "                                                                 test_size=0, \n",
    "                                                                 random_state=1)"
   ]
  },
  {
   "cell_type": "code",
   "execution_count": 18,
   "metadata": {
    "collapsed": true
   },
   "outputs": [],
   "source": [
    "X_test = test_data_minmax.ix[:,['dayofyear','dayofweek','hour','X','Y']]"
   ]
  },
  {
   "cell_type": "code",
   "execution_count": null,
   "metadata": {
    "collapsed": true
   },
   "outputs": [],
   "source": [
    "# # polarize data\n",
    "#     if tod:\n",
    "#         times = index.hour\n",
    "#         tody = np.cos(2*np.pi*times/24)\n",
    "#         todx = np.sin(2*np.pi*times/24)     \n",
    "        \n",
    "#         X_train[:,2] = tody[shuffling][:n_points]\n",
    "#         X_train[:,3] = todx[shuffling][:n_points]\n",
    "        \n",
    "#         X_test[:,2] = tody[shuffling][n_points:]\n",
    "#         X_test[:,3] = todx[shuffling][n_points:]"
   ]
  },
  {
   "cell_type": "markdown",
   "metadata": {},
   "source": [
    "## Random Forest Model"
   ]
  },
  {
   "cell_type": "code",
   "execution_count": 19,
   "metadata": {
    "collapsed": true
   },
   "outputs": [],
   "source": [
    "crime_forest = RandomForestClassifier()"
   ]
  },
  {
   "cell_type": "code",
   "execution_count": 20,
   "metadata": {
    "collapsed": false
   },
   "outputs": [
    {
     "name": "stdout",
     "output_type": "stream",
     "text": [
      "CPU times: user 31 s, sys: 1.58 s, total: 32.6 s\n",
      "Wall time: 33.7 s\n"
     ]
    }
   ],
   "source": [
    "%time crime_forest = crime_forest.fit(X_train, y_train)"
   ]
  },
  {
   "cell_type": "code",
   "execution_count": null,
   "metadata": {
    "collapsed": false
   },
   "outputs": [],
   "source": [
    "%%time\n",
    "\n",
    "score_train = crime_forest.score(X_train, y_train)\n",
    "score_cv = crime_forest.score(X_cv, y_cv)\n",
    "\n",
    "# test/train\n",
    "# 20/80 split Training Score: 0.944199898638 , CV Score: 0.217073344343\n",
    "# 50/50 split Training Score: 0.894782517584 , CV Score: 0.242728773988\n",
    "# 80/20 split Training Score: 0.943824063687 , CV Score: 0.219235806617\n",
    "print ('Training Score:', score_train, ', CV Score:', score_cv) "
   ]
  },
  {
   "cell_type": "code",
   "execution_count": 24,
   "metadata": {
    "collapsed": false
   },
   "outputs": [
    {
     "data": {
      "text/plain": [
       "array([ 0.34517333,  0.10516017,  0.11450594,  0.21685496,  0.2183056 ])"
      ]
     },
     "execution_count": 24,
     "metadata": {},
     "output_type": "execute_result"
    }
   ],
   "source": [
    "crime_forest.feature_importances_"
   ]
  },
  {
   "cell_type": "code",
   "execution_count": 25,
   "metadata": {
    "collapsed": true
   },
   "outputs": [],
   "source": [
    "prob_prediction = crime_forest.predict_proba(X_test)"
   ]
  },
  {
   "cell_type": "code",
   "execution_count": 47,
   "metadata": {
    "collapsed": false
   },
   "outputs": [],
   "source": [
    "submission = pd.DataFrame(prob_prediction, index=X_test.index, columns=crime_forest.classes_)"
   ]
  },
  {
   "cell_type": "code",
   "execution_count": 48,
   "metadata": {
    "collapsed": true
   },
   "outputs": [],
   "source": [
    "submission.to_csv('submission_2016_03_06.csv')"
   ]
  },
  {
   "cell_type": "markdown",
   "metadata": {},
   "source": [
    "### Plotting learning curves"
   ]
  },
  {
   "cell_type": "code",
   "execution_count": 20,
   "metadata": {
    "collapsed": true
   },
   "outputs": [],
   "source": [
    "# from sklearn.naive_bayes import GaussianNB\n",
    "# from sklearn.svm import SVC\n",
    "# from sklearn.datasets import load_digits\n",
    "from sklearn.learning_curve import learning_curve\n",
    "\n",
    "\n",
    "def plot_learning_curve(estimator, title, X, y, ylim=None, cv=None,\n",
    "                        n_jobs=1, train_sizes=np.linspace(.1, 1.0, 10)):\n",
    "    \"\"\"\n",
    "    Generate a simple plot of the test and traning learning curve.\n",
    "\n",
    "    Parameters\n",
    "    ----------\n",
    "    estimator : object type that implements the \"fit\" and \"predict\" methods\n",
    "        An object of that type which is cloned for each validation.\n",
    "\n",
    "    title : string\n",
    "        Title for the chart.\n",
    "\n",
    "    X : array-like, shape (n_samples, n_features)\n",
    "        Training vector, where n_samples is the number of samples and\n",
    "        n_features is the number of features.\n",
    "\n",
    "    y : array-like, shape (n_samples) or (n_samples, n_features), optional\n",
    "        Target relative to X for classification or regression;\n",
    "        None for unsupervised learning.\n",
    "\n",
    "    ylim : tuple, shape (ymin, ymax), optional\n",
    "        Defines minimum and maximum yvalues plotted.\n",
    "\n",
    "    cv : integer, cross-validation generator, optional\n",
    "        If an integer is passed, it is the number of folds (defaults to 3).\n",
    "        Specific cross-validation objects can be passed, see\n",
    "        sklearn.cross_validation module for the list of possible objects\n",
    "\n",
    "    n_jobs : integer, optional\n",
    "        Number of jobs to run in parallel (default 1).\n",
    "    \"\"\"\n",
    "    plt.figure()\n",
    "    plt.title(title)\n",
    "    if ylim is not None:\n",
    "        plt.ylim(*ylim)\n",
    "    plt.xlabel(\"Training examples\")\n",
    "    plt.ylabel(\"Score\")\n",
    "    train_sizes, train_scores, test_scores = learning_curve(\n",
    "        estimator, X, y, cv=cv, n_jobs=n_jobs, train_sizes=train_sizes)\n",
    "    train_scores_mean = np.mean(train_scores, axis=1)\n",
    "    train_scores_std = np.std(train_scores, axis=1)\n",
    "    test_scores_mean = np.mean(test_scores, axis=1)\n",
    "    test_scores_std = np.std(test_scores, axis=1)\n",
    "    plt.grid()\n",
    "\n",
    "    plt.fill_between(train_sizes, train_scores_mean - train_scores_std,\n",
    "                     train_scores_mean + train_scores_std, alpha=0.1,\n",
    "                     color=\"r\")\n",
    "    plt.fill_between(train_sizes, test_scores_mean - test_scores_std,\n",
    "                     test_scores_mean + test_scores_std, alpha=0.1, color=\"g\")\n",
    "    plt.plot(train_sizes, train_scores_mean, 'o-', color=\"r\",\n",
    "             label=\"Training score\")\n",
    "    plt.plot(train_sizes, test_scores_mean, 'o-', color=\"g\",\n",
    "             label=\"Cross-validation score\")\n",
    "\n",
    "    plt.legend(loc=\"best\")\n",
    "    return plt\n"
   ]
  },
  {
   "cell_type": "code",
   "execution_count": 21,
   "metadata": {
    "collapsed": false
   },
   "outputs": [
    {
     "data": {
      "image/png": "[encoded data removed]",
      "text/plain": [
       "<matplotlib.figure.Figure at 0x109d4dfd0>"
      ]
     },
     "metadata": {},
     "output_type": "display_data"
    },
    {
     "name": "stdout",
     "output_type": "stream",
     "text": [
      "CPU times: user 22.6 s, sys: 10.9 s, total: 33.4 s\n",
      "Wall time: 37min 51s\n"
     ]
    }
   ],
   "source": [
    "%%time \n",
    "X, y = X_train, y_train\n",
    "train_data = X\n",
    "estimator = crime_forest\n",
    "\n",
    "# from sklearn.ensemble import GradientBoostingClassifier\n",
    "# estimator = GradientBoostingClassifier()\n",
    "title = \"Learning Curves (Random Forest)\"\n",
    "# Cross validation with 100 iterations to get smoother mean test and train\n",
    "# score curves, each time with 20% data randomly selected as a validation set.\n",
    "cv = cross_validation.ShuffleSplit(train_data.shape[0], n_iter=20,\n",
    "                                   test_size=0.3, random_state=0)\n",
    "\n",
    "plot_learning_curve(estimator, title, X, y, cv=cv, n_jobs=4)\n",
    "plt.show()"
   ]
  },
  {
   "cell_type": "markdown",
   "metadata": {},
   "source": [
    "## SVM Model"
   ]
  },
  {
   "cell_type": "markdown",
   "metadata": {},
   "source": [
    "### Exhaustive Grid Search"
   ]
  },
  {
   "cell_type": "code",
   "execution_count": null,
   "metadata": {
    "collapsed": true
   },
   "outputs": [],
   "source": [
    "# Split again, generate training and cross-validation features for grid search\n",
    "X_grid_train, X_grid_cv, y_grid_train, y_grid_cv = cross_validation.train_test_split(X_train, \n",
    "                                                                 y_train, \n",
    "                                                                 test_size=0.50, \n",
    "                                                                 random_state=1)"
   ]
  },
  {
   "cell_type": "code",
   "execution_count": null,
   "metadata": {
    "collapsed": false
   },
   "outputs": [],
   "source": [
    "param_grid = [\n",
    "    {'estimator__C': [100, 1000, 10000], 'estimator__gamma': [0.01, 0.001, 0.0001], 'estimator__kernel': ['rbf']}\n",
    "]\n",
    "scores = ['precision', 'recall']"
   ]
  },
  {
   "cell_type": "code",
   "execution_count": null,
   "metadata": {
    "collapsed": false
   },
   "outputs": [],
   "source": [
    "%%time\n",
    "clf = GridSearchCV(OneVsRestClassifier(SVC()), param_grid, error_score=0)\n",
    "clf.fit(X_grid_train, y_grid_train)\n",
    "\n",
    "print(clf.best_score_, clf.best_params_)"
   ]
  },
  {
   "cell_type": "code",
   "execution_count": null,
   "metadata": {
    "collapsed": false
   },
   "outputs": [],
   "source": [
    "# for score in scores:\n",
    "#     print(\"# Tuning hyper-parameters for %s\" % score)\n",
    "#     print()\n",
    "\n",
    "#     clf = GridSearchCV(OneVsRestClassifier(SVC()), param_grid,\n",
    "#                        scoring='%s_weighted' % score)\n",
    "#     clf.fit(X_grid_train, y_grid_train)\n",
    "\n",
    "#     print(\"Best parameters set found on development set:\")\n",
    "#     print()\n",
    "#     print(clf.best_params_)\n",
    "#     print()\n",
    "#     print(\"Grid scores on development set:\")\n",
    "#     print()\n",
    "#     for params, mean_score, scores in clf.grid_scores_:\n",
    "#         print(\"%0.3f (+/-%0.03f) for %r\"\n",
    "#               % (mean_score, scores.std() * 2, params))\n",
    "#     print()\n",
    "\n",
    "#     print(\"Detailed classification report:\")\n",
    "#     print()\n",
    "#     print(\"The model is trained on the full development set.\")\n",
    "#     print(\"The scores are computed on the full evaluation set.\")\n",
    "#     print()\n",
    "#     y_true, y_pred = y_grid_cv, clf.predict(X_grid_cv)\n",
    "#     print(classification_report(y_true, y_pred))\n",
    "#     print()"
   ]
  },
  {
   "cell_type": "code",
   "execution_count": null,
   "metadata": {
    "collapsed": true
   },
   "outputs": [],
   "source": [
    "# Run for 5% of sample set, ~1.5 hour run time\n",
    "# # Tuning hyper-parameters for precision\n",
    "\n",
    "# {'estimator__C': 1000, 'estimator__kernel': 'rbf', 'estimator__gamma': 0.001}\n",
    "\n",
    "# Grid scores on development set:\n",
    "\n",
    "# 0.140 (+/-0.162) for {'estimator__C': 1, 'estimator__kernel': 'rbf', 'estimator__gamma': 0.001}\n",
    "# 0.093 (+/-0.168) for {'estimator__C': 1, 'estimator__kernel': 'rbf', 'estimator__gamma': 0.0001}\n",
    "# 0.137 (+/-0.194) for {'estimator__C': 10, 'estimator__kernel': 'rbf', 'estimator__gamma': 0.001}\n",
    "# 0.091 (+/-0.159) for {'estimator__C': 10, 'estimator__kernel': 'rbf', 'estimator__gamma': 0.0001}\n",
    "# 0.134 (+/-0.116) for {'estimator__C': 100, 'estimator__kernel': 'rbf', 'estimator__gamma': 0.001}\n",
    "# 0.091 (+/-0.160) for {'estimator__C': 100, 'estimator__kernel': 'rbf', 'estimator__gamma': 0.0001}\n",
    "# 0.154 (+/-0.123) for {'estimator__C': 1000, 'estimator__kernel': 'rbf', 'estimator__gamma': 0.001}\n",
    "# 0.131 (+/-0.186) for {'estimator__C': 1000, 'estimator__kernel': 'rbf', 'estimator__gamma': 0.0001}\n",
    "\n",
    "# Detailed classification report:\n",
    "\n",
    "# The model is trained on the full development set.\n",
    "# The scores are computed on the full evaluation set.\n",
    "\n",
    "#              precision    recall  f1-score   support\n",
    "\n",
    "#       ARSON       0.00      0.00      0.00        87\n",
    "#     ASSAULT       0.00      0.00      0.00      3827\n",
    "#  BAD CHECKS       0.00      0.00      0.00        19\n",
    "#     BRIBERY       0.00      0.00      0.00        13\n",
    "#    BURGLARY       0.00      0.00      0.00      1877\n",
    "# DISORDERLY CONDUCT       0.00      0.00      0.00       219\n",
    "# DRIVING UNDER THE INFLUENCE       0.00      0.00      0.00       121\n",
    "# DRUG/NARCOTIC       0.00      0.00      0.00      2789\n",
    "# DRUNKENNESS       0.00      0.00      0.00       222\n",
    "# EMBEZZLEMENT       0.00      0.00      0.00        59\n",
    "#   EXTORTION       0.00      0.18      0.00        11\n",
    "# FAMILY OFFENSES       0.00      0.09      0.00        23\n",
    "# FORGERY/COUNTERFEITING       0.00      0.00      0.00       545\n",
    "#       FRAUD       0.00      0.00      0.00       846\n",
    "#    GAMBLING       0.00      0.00      0.00        11\n",
    "#  KIDNAPPING       0.00      0.00      0.00       118\n",
    "# LARCENY/THEFT       0.33      0.00      0.00      8772\n",
    "# LIQUOR LAWS       0.00      0.00      0.00        87\n",
    "#   LOITERING       0.00      0.00      0.00        62\n",
    "# MISSING PERSON       0.00      0.00      0.00      1372\n",
    "# NON-CRIMINAL       0.00      0.00      0.00      4541\n",
    "# OTHER OFFENSES       0.00      0.00      0.00      6345\n",
    "# PORNOGRAPHY/OBSCENE MAT       0.00      1.00      0.00         2\n",
    "# PROSTITUTION       0.00      0.00      0.00       361\n",
    "# RECOVERED VEHICLE       0.00      0.00      0.00       138\n",
    "#     ROBBERY       0.00      0.00      0.00      1151\n",
    "#     RUNAWAY       0.00      0.00      0.00       102\n",
    "# SECONDARY CODES       0.00      0.00      0.00       485\n",
    "# SEX OFFENSES FORCIBLE       0.00      0.00      0.00       199\n",
    "# SEX OFFENSES NON FORCIBLE       0.00      0.00      0.00        10\n",
    "# STOLEN PROPERTY       0.00      0.00      0.00       225\n",
    "#     SUICIDE       0.00      0.00      0.00        26\n",
    "# SUSPICIOUS OCC       0.00      0.00      0.00      1512\n",
    "#        TREA       0.00      0.00      0.00         0\n",
    "#    TRESPASS       0.00      0.00      0.00       344\n",
    "#   VANDALISM       0.00      0.00      0.00      2204\n",
    "# VEHICLE THEFT       0.00      0.00      0.00      2625\n",
    "#    WARRANTS       0.00      0.00      0.00      2148\n",
    "# WEAPON LAWS       0.00      0.00      0.00       404\n",
    "\n",
    "# avg / total       0.07      0.00      0.00     43902\n",
    "\n",
    "# # Tuning hyper-parameters for recall\n",
    "\n",
    "# {'estimator__C': 10, 'estimator__kernel': 'rbf', 'estimator__gamma': 0.0001}\n",
    "\n",
    "# Grid scores on development set:\n",
    "\n",
    "# 0.006 (+/-0.005) for {'estimator__C': 1, 'estimator__kernel': 'rbf', 'estimator__gamma': 0.001}\n",
    "# 0.030 (+/-0.036) for {'estimator__C': 1, 'estimator__kernel': 'rbf', 'estimator__gamma': 0.0001}\n",
    "# 0.002 (+/-0.001) for {'estimator__C': 10, 'estimator__kernel': 'rbf', 'estimator__gamma': 0.001}\n",
    "# 0.033 (+/-0.006) for {'estimator__C': 10, 'estimator__kernel': 'rbf', 'estimator__gamma': 0.0001}\n",
    "# 0.013 (+/-0.028) for {'estimator__C': 100, 'estimator__kernel': 'rbf', 'estimator__gamma': 0.001}\n",
    "# 0.007 (+/-0.006) for {'estimator__C': 100, 'estimator__kernel': 'rbf', 'estimator__gamma': 0.0001}\n",
    "# 0.002 (+/-0.005) for {'estimator__C': 1000, 'estimator__kernel': 'rbf', 'estimator__gamma': 0.001}\n",
    "# 0.000 (+/-0.000) for {'estimator__C': 1000, 'estimator__kernel': 'rbf', 'estimator__gamma': 0.0001}\n",
    "\n",
    "# Detailed classification report:\n",
    "\n",
    "# The model is trained on the full development set.\n",
    "# The scores are computed on the full evaluation set.\n",
    "\n",
    "#              precision    recall  f1-score   support\n",
    "\n",
    "#       ARSON       0.00      0.00      0.00        87\n",
    "#     ASSAULT       0.00      0.00      0.00      3827\n",
    "#  BAD CHECKS       0.00      0.00      0.00        19\n",
    "#     BRIBERY       0.00      0.00      0.00        13\n",
    "#    BURGLARY       0.00      0.00      0.00      1877\n",
    "# DISORDERLY CONDUCT       0.02      0.02      0.02       219\n",
    "# DRIVING UNDER THE INFLUENCE       0.00      0.00      0.00       121\n",
    "# DRUG/NARCOTIC       0.00      0.00      0.00      2789\n",
    "# DRUNKENNESS       0.00      0.00      0.00       222\n",
    "# EMBEZZLEMENT       0.00      0.00      0.00        59\n",
    "#   EXTORTION       0.00      0.00      0.00        11\n",
    "# FAMILY OFFENSES       0.00      0.00      0.00        23\n",
    "# FORGERY/COUNTERFEITING       0.00      0.00      0.00       545\n",
    "#       FRAUD       0.00      0.00      0.00       846\n",
    "#    GAMBLING       0.00      0.00      0.00        11\n",
    "#  KIDNAPPING       0.00      0.00      0.00       118\n",
    "# LARCENY/THEFT       0.33      0.00      0.00      8772\n",
    "# LIQUOR LAWS       0.00      0.00      0.00        87\n",
    "#   LOITERING       0.00      0.00      0.00        62\n",
    "# MISSING PERSON       0.00      0.00      0.00      1372\n",
    "# NON-CRIMINAL       0.00      0.00      0.00      4541\n",
    "# OTHER OFFENSES       0.00      0.00      0.00      6345\n",
    "# PORNOGRAPHY/OBSCENE MAT       0.00      0.00      0.00         2\n",
    "# PROSTITUTION       0.00      0.00      0.00       361\n",
    "# RECOVERED VEHICLE       0.00      0.00      0.00       138\n",
    "#     ROBBERY       0.00      0.00      0.00      1151\n",
    "#     RUNAWAY       0.00      0.00      0.00       102\n",
    "# SECONDARY CODES       0.00      0.00      0.00       485\n",
    "# SEX OFFENSES FORCIBLE       0.00      0.00      0.00       199\n",
    "# SEX OFFENSES NON FORCIBLE       0.00      0.00      0.00        10\n",
    "# STOLEN PROPERTY       0.00      0.00      0.00       225\n",
    "#     SUICIDE       0.00      0.00      0.00        26\n",
    "# SUSPICIOUS OCC       0.03      0.29      0.06      1512\n",
    "#    TRESPASS       0.00      0.00      0.00       344\n",
    "#   VANDALISM       0.05      0.33      0.09      2204\n",
    "# VEHICLE THEFT       0.00      0.00      0.00      2625\n",
    "#    WARRANTS       0.00      0.00      0.00      2148\n",
    "# WEAPON LAWS       0.01      0.39      0.02       404\n",
    "\n",
    "# avg / total       0.07      0.03      0.01     43902"
   ]
  },
  {
   "cell_type": "code",
   "execution_count": null,
   "metadata": {
    "collapsed": true
   },
   "outputs": [],
   "source": [
    "# 0.00470365814769 {'estimator__C': 100, 'estimator__gamma': 0.01, 'estimator__kernel': 'rbf'}\n",
    "# CPU times: user 8h 4min 31s, sys: 7min 20s, total: 8h 11min 52s\n",
    "# Wall time: 10h 11s\n",
    "    \n",
    "# LARCENY/THEFT                  17471\n",
    "# OTHER OFFENSES                 12703\n",
    "# NON-CRIMINAL                    9163\n",
    "# ASSAULT                         7628\n",
    "# DRUG/NARCOTIC                   5428\n",
    "# VEHICLE THEFT                   5307\n",
    "# VANDALISM                       4509\n",
    "# WARRANTS                        4194\n",
    "# BURGLARY                        3650\n",
    "# SUSPICIOUS OCC                  3156\n",
    "# MISSING PERSON                  2690\n",
    "# ROBBERY                         2233\n",
    "# FRAUD                           1686\n",
    "# FORGERY/COUNTERFEITING          1082\n",
    "# SECONDARY CODES                 1005\n",
    "# WEAPON LAWS                      804\n",
    "# TRESPASS                         771\n",
    "# PROSTITUTION                     761\n",
    "# STOLEN PROPERTY                  467\n",
    "# DISORDERLY CONDUCT               426\n",
    "# DRUNKENNESS                      416\n",
    "# SEX OFFENSES FORCIBLE            413\n",
    "# RECOVERED VEHICLE                304\n",
    "# KIDNAPPING                       239\n",
    "# DRIVING UNDER THE INFLUENCE      235\n",
    "# RUNAWAY                          215\n",
    "# LIQUOR LAWS                      197\n",
    "# ARSON                            152\n",
    "# EMBEZZLEMENT                     129\n",
    "# LOITERING                        125\n",
    "# SUICIDE                           52\n",
    "# FAMILY OFFENSES                   50\n",
    "# BAD CHECKS                        40\n",
    "# BRIBERY                           38\n",
    "# EXTORTION                         22\n",
    "# GAMBLING                          18\n",
    "# SEX OFFENSES NON FORCIBLE         16\n",
    "# PORNOGRAPHY/OBSCENE MAT            7\n",
    "# TREA                               2"
   ]
  },
  {
   "cell_type": "code",
   "execution_count": null,
   "metadata": {
    "collapsed": true
   },
   "outputs": [],
   "source": [
    "# # Run on 10% of trainining with another 10% for validation\n",
    "\n",
    "# Grid search results\n",
    "\n",
    "# 0.00470365814769 {'estimator__C': 100, 'estimator__gamma': 0.01, 'estimator__kernel': 'rbf'}\n",
    "# CPU times: user 8h 4min 31s, sys: 7min 20s, total: 8h 11min 52s\n",
    "# Wall time: 10h 11s"
   ]
  },
  {
   "cell_type": "markdown",
   "metadata": {},
   "source": [
    "### SVC Model prediction"
   ]
  },
  {
   "cell_type": "code",
   "execution_count": null,
   "metadata": {
    "collapsed": false
   },
   "outputs": [],
   "source": [
    "%%time\n",
    "\n",
    "# SUPPORT VECTOR MACHINE\n",
    "\n",
    "crime_svm = OneVsRestClassifier(SVC(C = 100, gamma = 0.01, kernel='rbf'))\n",
    "crime_svm.fit(X_train, y_train)"
   ]
  },
  {
   "cell_type": "code",
   "execution_count": null,
   "metadata": {
    "collapsed": false
   },
   "outputs": [],
   "source": [
    "%%time\n",
    "\n",
    "score_train = crime_svm.score(X_train, y_train)\n",
    "score_cv = crime_svm.score(X_cv, y_cv)\n",
    "\n",
    "\n",
    "print ('Training Score:', score_train, ', CV Score:', score_cv) # Score:  0.0880649625019 , Time:  0.27322959899902344"
   ]
  },
  {
   "cell_type": "code",
   "execution_count": null,
   "metadata": {
    "collapsed": false
   },
   "outputs": [],
   "source": [
    "%time output = crime_svm.predict(X_test)"
   ]
  },
  {
   "cell_type": "code",
   "execution_count": null,
   "metadata": {
    "collapsed": false
   },
   "outputs": [],
   "source": [
    "pd.get_dummies(output)"
   ]
  },
  {
   "cell_type": "code",
   "execution_count": null,
   "metadata": {
    "collapsed": false
   },
   "outputs": [],
   "source": [
    "cat_uniques = train_data_raw.Category.unique()"
   ]
  },
  {
   "cell_type": "code",
   "execution_count": null,
   "metadata": {
    "collapsed": true
   },
   "outputs": [],
   "source": [
    "headers = 'Id,' + ','.join(sorted(cat_uniques)) + '\\n'\n",
    "f = open('y_test.csv', 'w')\n",
    "f.write(headers)\n",
    "for i in xrange(len(y_test)):\n",
    "    arr = [0] * 39\n",
    "    arr[int(y_test)]"
   ]
  },
  {
   "cell_type": "code",
   "execution_count": null,
   "metadata": {
    "collapsed": true
   },
   "outputs": [],
   "source": []
  }
 ],
 "metadata": {
  "kernelspec": {
   "display_name": "Python 3",
   "language": "python",
   "name": "python3"
  },
  "language_info": {
   "codemirror_mode": {
    "name": "ipython",
    "version": 3
   },
   "file_extension": ".py",
   "mimetype": "text/x-python",
   "name": "python",
   "nbconvert_exporter": "python",
   "pygments_lexer": "ipython3",
   "version": "3.5.1"
  }
 },
 "nbformat": 4,
 "nbformat_minor": 0
}
