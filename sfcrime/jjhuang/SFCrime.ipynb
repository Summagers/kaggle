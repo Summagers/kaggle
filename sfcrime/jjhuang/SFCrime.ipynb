{
 "cells": [
  {
   "cell_type": "markdown",
   "metadata": {
    "collapsed": true
   },
   "source": [
    "# Basic Imports and Reads"
   ]
  },
  {
   "cell_type": "code",
   "execution_count": 3,
   "metadata": {
    "collapsed": false
   },
   "outputs": [],
   "source": [
    "from datetime import datetime\n",
    "import numpy as np\n",
    "import pandas\n",
    "import sklearn\n",
    "\n",
    "FILE_TRAIN = 'train.csv'\n",
    "FILE_TEST  = 'test.csv'\n",
    "with open(FILE_TRAIN, 'r') as f:\n",
    "    dt = pandas.read_csv(f)\n",
    "with open(FILE_TEST, 'r') as f:\n",
    "    dt_test = pandas.read_csv(f)"
   ]
  },
  {
   "cell_type": "markdown",
   "metadata": {},
   "source": [
    "# Exploration of Data\n",
    "Here we do a basic exploration of the types of columns, number of rows, and the type of data they contain."
   ]
  },
  {
   "cell_type": "code",
   "execution_count": 4,
   "metadata": {
    "collapsed": false
   },
   "outputs": [],
   "source": [
    "dt         = dt.drop(['Descript', 'Resolution'], axis=1)\n",
    "categories = dt.Category.unique()\n",
    "pds        = dt.PdDistrict.unique()"
   ]
  },
  {
   "cell_type": "code",
   "execution_count": 5,
   "metadata": {
    "collapsed": false
   },
   "outputs": [],
   "source": [
    "def get_street_name(address):\n",
    "    if '/' in address:\n",
    "        address = map(str.strip, address.split('/'))\n",
    "        return 0, ','.join(address)\n",
    "    tokens = address.split(' Block of ')\n",
    "    return int(tokens[0]), tokens[1]\n",
    "\n",
    "dt['Street'] = dt.Address.apply(lambda x: x.strip())\n",
    "dt['Block'], dt['Streets'] = zip(*dt.Street.apply(lambda x: get_street_name(x)))\n",
    "\n",
    "streets  = dt.Street.unique()\n",
    "count_c  = dt.groupby('Category').size()\n",
    "count_s  = dt.groupby('Street').size()\n",
    "count_cs = dt.groupby(['Street', 'Category']).size()"
   ]
  },
  {
   "cell_type": "code",
   "execution_count": 68,
   "metadata": {
    "collapsed": false
   },
   "outputs": [],
   "source": [
    "avg_district = dt.groupby('PdDistrict')['X', 'Y'].mean()\n",
    "for pd in pds:\n",
    "    dt.loc[(dt['Y']==90) & (dt['PdDistrict'] == pd), 'X'] = avg_district['X'][pd]\n",
    "    dt.loc[(dt['Y']==90) & (dt['PdDistrict'] == pd), 'Y'] = avg_district['Y'][pd]"
   ]
  },
  {
   "cell_type": "code",
   "execution_count": 69,
   "metadata": {
    "collapsed": false
   },
   "outputs": [],
   "source": [
    "log_st = {}\n",
    "p_c_s  = {}\n",
    "p_s    = {}\n",
    "N = float(len(dt))\n",
    "for st in streets:\n",
    "    p_s[st]    = count_s[st] / N\n",
    "    log_st[st] = np.log(p_s[st]) - np.log(1. - p_s[st])\n",
    "    # p_c_s[st]  = np.array([count_cs[st].get(c, 0) / N / p_s[st] for c in categories])"
   ]
  },
  {
   "cell_type": "code",
   "execution_count": 70,
   "metadata": {
    "collapsed": false
   },
   "outputs": [],
   "source": [
    "# probs = []\n",
    "# for k, v in p_c_s.iteritems():\n",
    "#     probs.append([k] + list(v))"
   ]
  },
  {
   "cell_type": "code",
   "execution_count": 71,
   "metadata": {
    "collapsed": false
   },
   "outputs": [],
   "source": [
    "# df_probs = pandas.DataFrame(probs, columns=(['Street'] + list(categories)))\n",
    "# df_probs.to_csv('p_s_c.csv')"
   ]
  },
  {
   "cell_type": "code",
   "execution_count": 74,
   "metadata": {
    "collapsed": false
   },
   "outputs": [],
   "source": [
    "DISTRICTS = dt.PdDistrict.unique()\n",
    "\n",
    "def get_season(month):\n",
    "    spring = summer = fall = winter = 0\n",
    "    if 3 <= month <= 5:\n",
    "        spring = 1\n",
    "    elif 6 <= month <= 8:\n",
    "        summer = 1\n",
    "    elif 9 <= month <= 11:\n",
    "        fall = 1\n",
    "    else:\n",
    "        winter = 1\n",
    "    return spring, summer, fall, winter\n",
    "\n",
    "def process(df_orig, log_st):\n",
    "    df = df_orig.copy()\n",
    "    \n",
    "    df['DateTimes'] = pandas.to_datetime(df.Dates)\n",
    "    df['DayOfWeek'] = df.DateTimes.dt.dayofweek\n",
    "    df['DayOfYear'] = df.DateTimes.dt.dayofyear\n",
    "    df['Year']      = df.DateTimes.dt.year\n",
    "    df['Month']     = df.DateTimes.dt.month\n",
    "    df['Hour']      = df.DateTimes.dt.hour\n",
    "    df['Spring'], df['Summer'], df['Fall'], df['Winter'] = zip(*df.Month.apply(get_season))\n",
    "    \n",
    "    df['isWeekend']      = df.DayOfWeek.apply(lambda x: 1 if x in ('Saturday', 'Sunday') else 0)\n",
    "    df['isAwake']        = df.Hour.apply(lambda x: 1 if (x == 0 or 8 <= x <= 23) else 0)\n",
    "    df['isIntersection'] = df.Address.apply(lambda x: 1 if '/' in x else 0)\n",
    "    df['log_street']     = df.Street.apply(lambda x: log_st.get(x, 0))\n",
    "    \n",
    "    # streets   = df['Streets'].str.get_dummies(sep=',')\n",
    "    districts = pandas.get_dummies(df.PdDistrict, prefix='PD')\n",
    "    df = pandas.concat([df, districts], axis=1)\n",
    "    for d in DISTRICTS:\n",
    "        if 'PD_%s' % d not in df.columns:\n",
    "            df[d] = 0\n",
    "    \n",
    "    cols = [\n",
    "        'Id',\n",
    "        'Dates', \n",
    "        'DateTimes',\n",
    "        'PdDistrict',\n",
    "        'Address', \n",
    "        'Street',\n",
    "        'Streets',\n",
    "        'Category',\n",
    "    ]\n",
    "    for col in cols:\n",
    "        if col in df.columns:\n",
    "            df = df.drop(col, axis=1)\n",
    "    \n",
    "    return df"
   ]
  },
  {
   "cell_type": "code",
   "execution_count": 75,
   "metadata": {
    "collapsed": false
   },
   "outputs": [
    {
     "name": "stdout",
     "output_type": "stream",
     "text": [
      "CPU times: user 6.82 s, sys: 974 ms, total: 7.8 s\n",
      "Wall time: 8.02 s\n"
     ]
    }
   ],
   "source": [
    "ytrain = dt.Category\n",
    "%time xtrain = process(dt, log_st)\n",
    "features = xtrain.columns.values\n",
    "process_feats = xtrain.columns.values"
   ]
  },
  {
   "cell_type": "code",
   "execution_count": 76,
   "metadata": {
    "collapsed": false
   },
   "outputs": [],
   "source": [
    "# cut out validation set\n",
    "from sklearn import cross_validation\n",
    "classes = dt.Category.values\n",
    "X_train, X_valid, y_train, y_valid = \\\n",
    "    cross_validation.train_test_split(np.array(xtrain), np.array(ytrain), test_size=0.4, random_state=0)\n",
    "    \n",
    "# X_train, y_train = np.array(xtrain), np.array(ytrain)"
   ]
  },
  {
   "cell_type": "code",
   "execution_count": 97,
   "metadata": {
    "collapsed": false
   },
   "outputs": [
    {
     "name": "stdout",
     "output_type": "stream",
     "text": [
      "CPU times: user 4min 52s, sys: 14 s, total: 5min 6s\n",
      "Wall time: 5min 15s\n"
     ]
    }
   ],
   "source": [
    "# train the model\n",
    "from sklearn.ensemble import RandomForestClassifier\n",
    "N_EST = 100\n",
    "RSEED = None\n",
    "%time forest = RandomForestClassifier(n_estimators=N_EST, random_state=RSEED, criterion='entropy').fit(X_train, y_train)"
   ]
  },
  {
   "cell_type": "code",
   "execution_count": 98,
   "metadata": {
    "collapsed": false
   },
   "outputs": [
    {
     "name": "stdout",
     "output_type": "stream",
     "text": [
      "('DayOfYear', 0.13049041647223342)\n",
      "('Hour', 0.11798803710014039)\n",
      "('Y', 0.11654928908509982)\n",
      "('X', 0.11467884986422151)\n",
      "('log_street', 0.10825726162467335)\n",
      "('Year', 0.10270361913063486)\n",
      "('DayOfWeek', 0.089319995920925307)\n",
      "('Month', 0.061787877709017947)\n",
      "('Block', 0.053403115594212271)\n",
      "('isIntersection', 0.015026707736697857)\n",
      "('Summer', 0.013353588361234616)\n",
      "('Spring', 0.013018017759018043)\n",
      "('Winter', 0.012511904852853764)\n",
      "('Fall', 0.012134753801491607)\n",
      "('isAwake', 0.0084347589132932436)\n",
      "('PD_TENDERLOIN', 0.0054084176197006593)\n",
      "('PD_MISSION', 0.0038162592037497577)\n",
      "('PD_SOUTHERN', 0.0033584654217984418)\n",
      "('PD_NORTHERN', 0.0031867676505366897)\n",
      "('PD_BAYVIEW', 0.0029921845579730373)\n",
      "('PD_INGLESIDE', 0.0027297958081412528)\n",
      "('PD_PARK', 0.0025647315937376287)\n",
      "('PD_CENTRAL', 0.0023455514847980584)\n",
      "('PD_TARAVAL', 0.0021667914950455084)\n",
      "('PD_RICHMOND', 0.0017728412387710392)\n",
      "('isWeekend', 0.0)\n"
     ]
    }
   ],
   "source": [
    "feature_importance = zip(features, forest.feature_importances_)\n",
    "for x in sorted(feature_importance, key=lambda (x, y): -y):\n",
    "    print x"
   ]
  },
  {
   "cell_type": "code",
   "execution_count": 99,
   "metadata": {
    "collapsed": false
   },
   "outputs": [
    {
     "name": "stdout",
     "output_type": "stream",
     "text": [
      "CPU times: user 57.9 s, sys: 37.3 s, total: 1min 35s\n",
      "Wall time: 1min 56s\n",
      "CPU times: user 40.3 s, sys: 31 s, total: 1min 11s\n",
      "Wall time: 1min 33s\n",
      "----------\n",
      "Training: 0.446104\n",
      "CV      : 5.287879\n",
      "----------\n",
      "N_est=100\n",
      "Features: DayOfWeek, X, Y, Block, DayOfYear, Year, Month, Hour, Spring, Summer, Fall, Winter, isWeekend, isAwake, isIntersection, log_street, PD_BAYVIEW, PD_CENTRAL, PD_INGLESIDE, PD_MISSION, PD_NORTHERN, PD_PARK, PD_RICHMOND, PD_SOUTHERN, PD_TARAVAL, PD_TENDERLOIN\n"
     ]
    }
   ],
   "source": [
    "# score the results\n",
    "%time p_train = forest.predict_proba(X_train)\n",
    "%time p_valid = forest.predict_proba(X_valid)\n",
    "print '-' * 10\n",
    "print 'Train: %.6f' % sklearn.metrics.log_loss(y_train, p_train)\n",
    "print 'Valid: %.6f' % sklearn.metrics.log_loss(y_valid, p_valid)\n",
    "print '-' * 10\n",
    "print 'N_est=%d' % N_EST\n",
    "print 'Features:', ', '.join(features)"
   ]
  },
  {
   "cell_type": "code",
   "execution_count": 93,
   "metadata": {
    "collapsed": false
   },
   "outputs": [],
   "source": [
    "dt_test['Street'] = dt_test.Address.apply(lambda x: x.strip())\n",
    "dt_test['Block'], dt_test['Streets'] = zip(*dt_test.Street.apply(lambda x: get_street_name(x)))\n",
    "# for pd in pds:\n",
    "#     dt_test.loc[(dt_test['Y']==90) & (dt_test['PdDistrict'] == pd), 'X'] = avg_district['X'][pd]\n",
    "#     dt_test.loc[(dt_test['Y']==90) & (dt_test['PdDistrict'] == pd), 'Y'] = avg_district['Y'][pd]\n",
    "\n",
    "# y_test = forest.predict_proba(process(dt_test, log_st))\n",
    "# \n",
    "# y_test = []\n",
    "# batch  = 500\n",
    "# for i in xrange(0, len(dt_test), batch):\n",
    "#     xtest = process(dt_test.ix[i:i + batch - 1], log_st)\n",
    "#     y_test.extend(forest.predict_proba(xtest.to_sparse()))"
   ]
  },
  {
   "cell_type": "code",
   "execution_count": 18,
   "metadata": {
    "collapsed": false
   },
   "outputs": [],
   "source": [
    "# submission = pandas.DataFrame(y_test, index=dt_test.index, columns=forest.classes_)\n",
    "# submission.to_csv('y_test.csv', index_label='Id')"
   ]
  },
  {
   "cell_type": "code",
   "execution_count": null,
   "metadata": {
    "collapsed": true
   },
   "outputs": [],
   "source": []
  }
 ],
 "metadata": {
  "kernelspec": {
   "display_name": "Python 2",
   "language": "python",
   "name": "python2"
  },
  "language_info": {
   "codemirror_mode": {
    "name": "ipython",
    "version": 2
   },
   "file_extension": ".py",
   "mimetype": "text/x-python",
   "name": "python",
   "nbconvert_exporter": "python",
   "pygments_lexer": "ipython2",
   "version": "2.7.10"
  }
 },
 "nbformat": 4,
 "nbformat_minor": 0
}
